# __new__
# creates object;
# accepts a type as the first argument;
# returns a new instance of that type (usually).


class MyClass:
    def __new__(cls):
        return 111


print(MyClass())


# __init__
# initialize object;
# accepts an instance as the first argument;
# modifies the attributes of that instance.


class MyClass:
    def __init__(self):
        self.number = 111


get_number = MyClass()
print(get_number.number)


class MyClass:
    def __init__(self):
        return 111


MyClass()  # TypeError: __init__() should return None, not 'int'


